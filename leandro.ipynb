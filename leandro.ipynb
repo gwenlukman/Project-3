{
 "cells": [
  {
   "cell_type": "code",
   "execution_count": 6,
   "metadata": {},
   "outputs": [],
   "source": [
    "import pandas as pd\n",
    "import requests"
   ]
  },
  {
   "cell_type": "code",
   "execution_count": 4,
   "metadata": {},
   "outputs": [],
   "source": [
    "\n",
    "# Define API endpoint and parameters\n",
    "endpoint = \"https://api.weatherbit.io/v2.0/history/daily\"\n",
    "params = {\n",
    "    \"key\": \"Your API key\",\n",
    "    \"start_date\": \"2023-01-01\",\n",
    "    \"end_date\": \"2023-12-31\",\n",
    "    \"city\": \"San Leandro\",\n",
    "    \"country\" : \"US\",\n",
    "}\n",
    "\n",
    "# Make API request\n",
    "response = requests.get(endpoint, params=params)\n",
    "\n",
    "# Check if request was successful\n",
    "if response.status_code == 200:\n",
    "    # API call successful, extract data\n",
    "    data = response.json()\n",
    "else:\n",
    "    # API call failed, print error message\n",
    "    print(\"Error:\", response.status_code)\n",
    "\n"
   ]
  },
  {
   "cell_type": "code",
   "execution_count": 5,
   "metadata": {},
   "outputs": [],
   "source": [
    "leandro_df = pd.DataFrame(data['data'])\n",
    "leandro_df.to_csv('Leandro_data.csv', index=False)\n",
    "\n"
   ]
  },
  {
   "cell_type": "code",
   "execution_count": null,
   "metadata": {},
   "outputs": [],
   "source": []
  }
 ],
 "metadata": {
  "kernelspec": {
   "display_name": "base",
   "language": "python",
   "name": "python3"
  },
  "language_info": {
   "codemirror_mode": {
    "name": "ipython",
    "version": 3
   },
   "file_extension": ".py",
   "mimetype": "text/x-python",
   "name": "python",
   "nbconvert_exporter": "python",
   "pygments_lexer": "ipython3",
   "version": "3.11.5"
  }
 },
 "nbformat": 4,
 "nbformat_minor": 2
}
