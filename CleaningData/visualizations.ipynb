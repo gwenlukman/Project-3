{
 "cells": [
  {
   "cell_type": "code",
   "execution_count": 26,
   "metadata": {},
   "outputs": [],
   "source": [
    "# Import dependencies\n",
    "import pandas as pd\n",
    "import matplotlib.pyplot as plt\n",
    "import seaborn as sns"
   ]
  },
  {
   "cell_type": "code",
   "execution_count": null,
   "metadata": {},
   "outputs": [],
   "source": [
    "northcal = pd.read_csv('../Data/La_finaldata.csv')\n",
    "northcal_df = pd.DataFrame(northcal)\n",
    "northcal_df"
   ]
  },
  {
   "cell_type": "code",
   "execution_count": null,
   "metadata": {},
   "outputs": [],
   "source": [
    "#average annual virus count in northcal and southcal : bar graph"
   ]
  },
  {
   "cell_type": "code",
   "execution_count": 8,
   "metadata": {},
   "outputs": [
    {
     "data": {
      "text/html": [
       "<div>\n",
       "<style scoped>\n",
       "    .dataframe tbody tr th:only-of-type {\n",
       "        vertical-align: middle;\n",
       "    }\n",
       "\n",
       "    .dataframe tbody tr th {\n",
       "        vertical-align: top;\n",
       "    }\n",
       "\n",
       "    .dataframe thead th {\n",
       "        text-align: right;\n",
       "    }\n",
       "</style>\n",
       "<table border=\"1\" class=\"dataframe\">\n",
       "  <thead>\n",
       "    <tr style=\"text-align: right;\">\n",
       "      <th></th>\n",
       "      <th>collection_date</th>\n",
       "      <th>site_name</th>\n",
       "      <th>name</th>\n",
       "      <th>sewershed_pop</th>\n",
       "      <th>N_Gene_gc_g_dry_weight</th>\n",
       "      <th>average_temp</th>\n",
       "    </tr>\n",
       "  </thead>\n",
       "  <tbody>\n",
       "    <tr>\n",
       "      <th>0</th>\n",
       "      <td>2023-01-01</td>\n",
       "      <td>Joint Water Pollution Control Plant</td>\n",
       "      <td>Los Angeles County, CA</td>\n",
       "      <td>3500000</td>\n",
       "      <td>527757.138612</td>\n",
       "      <td>13.35</td>\n",
       "    </tr>\n",
       "    <tr>\n",
       "      <th>1</th>\n",
       "      <td>2023-01-02</td>\n",
       "      <td>Joint Water Pollution Control Plant</td>\n",
       "      <td>Los Angeles County, CA</td>\n",
       "      <td>3500000</td>\n",
       "      <td>389195.906456</td>\n",
       "      <td>11.90</td>\n",
       "    </tr>\n",
       "    <tr>\n",
       "      <th>2</th>\n",
       "      <td>2023-01-04</td>\n",
       "      <td>Joint Water Pollution Control Plant</td>\n",
       "      <td>Los Angeles County, CA</td>\n",
       "      <td>3500000</td>\n",
       "      <td>198762.013333</td>\n",
       "      <td>15.30</td>\n",
       "    </tr>\n",
       "    <tr>\n",
       "      <th>3</th>\n",
       "      <td>2023-01-08</td>\n",
       "      <td>Joint Water Pollution Control Plant</td>\n",
       "      <td>Los Angeles County, CA</td>\n",
       "      <td>3500000</td>\n",
       "      <td>313013.523177</td>\n",
       "      <td>13.60</td>\n",
       "    </tr>\n",
       "    <tr>\n",
       "      <th>4</th>\n",
       "      <td>2023-01-09</td>\n",
       "      <td>Joint Water Pollution Control Plant</td>\n",
       "      <td>Los Angeles County, CA</td>\n",
       "      <td>3500000</td>\n",
       "      <td>568464.428247</td>\n",
       "      <td>13.60</td>\n",
       "    </tr>\n",
       "  </tbody>\n",
       "</table>\n",
       "</div>"
      ],
      "text/plain": [
       "  collection_date                            site_name  \\\n",
       "0      2023-01-01  Joint Water Pollution Control Plant   \n",
       "1      2023-01-02  Joint Water Pollution Control Plant   \n",
       "2      2023-01-04  Joint Water Pollution Control Plant   \n",
       "3      2023-01-08  Joint Water Pollution Control Plant   \n",
       "4      2023-01-09  Joint Water Pollution Control Plant   \n",
       "\n",
       "                     name  sewershed_pop  N_Gene_gc_g_dry_weight  average_temp  \n",
       "0  Los Angeles County, CA        3500000           527757.138612         13.35  \n",
       "1  Los Angeles County, CA        3500000           389195.906456         11.90  \n",
       "2  Los Angeles County, CA        3500000           198762.013333         15.30  \n",
       "3  Los Angeles County, CA        3500000           313013.523177         13.60  \n",
       "4  Los Angeles County, CA        3500000           568464.428247         13.60  "
      ]
     },
     "execution_count": 8,
     "metadata": {},
     "output_type": "execute_result"
    }
   ],
   "source": [
    "la = pd.read_csv('../Data/La_finaldata.csv')\n",
    "leondro = pd.read_csv('../Data/La_finaldata.csv')\n",
    "oakland = pd.read_csv('../Data/Oakland_finaldata.csv')\n",
    "ontario = pd.read_csv('../Data/Ontario_finaldata.csv')\n",
    "\n"
   ]
  },
  {
   "cell_type": "code",
   "execution_count": 11,
   "metadata": {},
   "outputs": [],
   "source": [
    "northcal_df = pd.concat([la, ontario], ignore_index=True)\n",
    "southcal_df = pd.concat([leondro, oakland], ignore_index=True)"
   ]
  },
  {
   "cell_type": "code",
   "execution_count": 28,
   "metadata": {},
   "outputs": [
    {
     "data": {
      "text/html": [
       "<div>\n",
       "<style scoped>\n",
       "    .dataframe tbody tr th:only-of-type {\n",
       "        vertical-align: middle;\n",
       "    }\n",
       "\n",
       "    .dataframe tbody tr th {\n",
       "        vertical-align: top;\n",
       "    }\n",
       "\n",
       "    .dataframe thead th {\n",
       "        text-align: right;\n",
       "    }\n",
       "</style>\n",
       "<table border=\"1\" class=\"dataframe\">\n",
       "  <thead>\n",
       "    <tr style=\"text-align: right;\">\n",
       "      <th></th>\n",
       "      <th>Area</th>\n",
       "      <th>Average Gene Present (copies/g)</th>\n",
       "    </tr>\n",
       "  </thead>\n",
       "  <tbody>\n",
       "    <tr>\n",
       "      <th>0</th>\n",
       "      <td>North Cal</td>\n",
       "      <td>157900.146384</td>\n",
       "    </tr>\n",
       "    <tr>\n",
       "      <th>1</th>\n",
       "      <td>South Cal</td>\n",
       "      <td>157133.409080</td>\n",
       "    </tr>\n",
       "  </tbody>\n",
       "</table>\n",
       "</div>"
      ],
      "text/plain": [
       "        Area  Average Gene Present (copies/g)\n",
       "0  North Cal                    157900.146384\n",
       "1  South Cal                    157133.409080"
      ]
     },
     "execution_count": 28,
     "metadata": {},
     "output_type": "execute_result"
    }
   ],
   "source": [
    "northcal_avegene = northcal_df['N_Gene_gc_g_dry_weight'].mean()\n",
    "southcal_avegene = southcal_df['N_Gene_gc_g_dry_weight'].mean()\n",
    "\n",
    "df = pd.DataFrame({'Area': ['North Cal', 'South Cal'],\n",
    "                   'Average Gene Present (copies/g)': [northcal_avegene, southcal_avegene]})\n",
    "df.head()"
   ]
  },
  {
   "cell_type": "code",
   "execution_count": 33,
   "metadata": {},
   "outputs": [
    {
     "name": "stderr",
     "output_type": "stream",
     "text": [
      "/var/folders/zv/60vhhzq96wq03vcl38clrl580000gn/T/ipykernel_42978/2588101666.py:4: FutureWarning: \n",
      "\n",
      "Passing `palette` without assigning `hue` is deprecated and will be removed in v0.14.0. Assign the `x` variable to `hue` and set `legend=False` for the same effect.\n",
      "\n",
      "  sns.barplot(x='Area', y='Average Gene Present (copies/g)', data=df, palette=custom_palette)\n"
     ]
    },
    {
     "data": {
      "image/png": "[encoded data removed]",
      "text/plain": [
       "<Figure size 800x600 with 1 Axes>"
      ]
     },
     "metadata": {},
     "output_type": "display_data"
    }
   ],
   "source": [
    "sns.set(style='whitegrid')\n",
    "plt.figure(figsize=(8,6))\n",
    "custom_palette = sns.color_palette(\"husl\", len(df))\n",
    "sns.barplot(x='Area', y='Average Gene Present (copies/g)', data=df, palette=custom_palette)\n",
    "plt.title('Average Gene Present in Northcal and Southcal')\n",
    "plt.xlabel('Area')\n",
    "plt.ylabel('Average Gene Present (copies/gram)')\n",
    "plt.ylim(156000, 158500)\n",
    "plt.show()"
   ]
  }
 ],
 "metadata": {
  "kernelspec": {
   "display_name": "bootcamp",
   "language": "python",
   "name": "python3"
  },
  "language_info": {
   "codemirror_mode": {
    "name": "ipython",
    "version": 3
   },
   "file_extension": ".py",
   "mimetype": "text/x-python",
   "name": "python",
   "nbconvert_exporter": "python",
   "pygments_lexer": "ipython3",
   "version": "3.12.0"
  }
 },
 "nbformat": 4,
 "nbformat_minor": 2
}
